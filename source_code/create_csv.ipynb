{
 "cells": [
  {
   "cell_type": "code",
   "execution_count": null,
   "metadata": {
    "collapsed": true
   },
   "outputs": [],
   "source": [
    "\"\"\"\n",
    "Created on Tue Mar 15 09:15:25 2022\n",
    "\n",
    "@author: Herminarto Nugroho\n",
    "\n",
    "Ini program untuk membuat dataframe dalam bentuk csv dari seluruh folder images,\n",
    " dengan terlebih dahulu mengecek nama-nama file yang sama dari seluruh folder \n",
    " training left, right, disparity dan depth.\n",
    " \n",
    "\"\"\""
   ]
  },
  {
   "cell_type": "code",
   "execution_count": null,
   "metadata": {
    "collapsed": true
   },
   "outputs": [],
   "source": [
    "import os\n",
    "import pandas as pd"
   ]
  },
  {
   "cell_type": "code",
   "execution_count": null,
   "metadata": {
    "collapsed": true
   },
   "outputs": [],
   "source": [
    "BASE_DIR = 'D:/STEREO CAMERA PROJECT/'\n",
    "train_left = BASE_DIR+'train-left-image/'\n",
    "train_right = BASE_DIR+'train-right-image/'\n",
    "train_disparity = BASE_DIR+'train-disparity-map/'\n",
    "train_depth = BASE_DIR+'train-depth-map/'"
   ]
  },
  {
   "cell_type": "code",
   "execution_count": null,
   "metadata": {
    "collapsed": true
   },
   "outputs": [],
   "source": [
    "files_in_left = sorted(os.listdir(train_left))\n",
    "files_in_right = sorted(os.listdir(train_right))\n",
    "files_in_disparity = sorted(os.listdir(train_disparity))\n",
    "files_in_depth = sorted(os.listdir(train_depth))"
   ]
  },
  {
   "cell_type": "code",
   "execution_count": null,
   "metadata": {
    "collapsed": true
   },
   "outputs": [],
   "source": [
    "images=[i for i in files_in_left if i in files_in_right if i in files_in_disparity if i in files_in_depth]"
   ]
  },
  {
   "cell_type": "code",
   "execution_count": null,
   "metadata": {
    "collapsed": true
   },
   "outputs": [],
   "source": [
    "df = pd.DataFrame()\n",
    "df['left']=[train_left+str(x) for x in images]\n",
    "df['right']=[train_right+str(x) for x in images]\n",
    "df['disparity']=[train_disparity+str(x) for x in images]\n",
    "df['depth']=[train_depth+str(x) for x in images]"
   ]
  },
  {
   "cell_type": "code",
   "execution_count": null,
   "metadata": {
    "collapsed": true
   },
   "outputs": [],
   "source": [
    "df.to_csv('D:/STEREO CAMERA PROJECT/datasets.csv', header=None)"
   ]
  }
 ],
 "metadata": {
  "kernelspec": {
   "display_name": "Python 3",
   "language": "python",
   "name": "python3"
  },
  "language_info": {
   "codemirror_mode": {
    "name": "ipython",
    "version": 3
   },
   "file_extension": ".py",
   "mimetype": "text/x-python",
   "name": "python",
   "nbconvert_exporter": "python",
   "pygments_lexer": "ipython3",
   "version": "3.6.2"
  }
 },
 "nbformat": 4,
 "nbformat_minor": 2
}
