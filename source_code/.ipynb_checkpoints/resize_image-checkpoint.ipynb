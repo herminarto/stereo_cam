{
 "cells": [
  {
   "cell_type": "markdown",
   "metadata": {},
   "source": [
    "# Stereo Camera Dataset Preparation"
   ]
  },
  {
   "cell_type": "markdown",
   "metadata": {},
   "source": [
    "Created by : Herminarto Nugroho, Universitas Pertamina (herminarto.nugroho@universitaspertamina.ac.id)"
   ]
  },
  {
   "cell_type": "code",
   "execution_count": 10,
   "metadata": {
    "collapsed": true
   },
   "outputs": [],
   "source": [
    "from PIL import Image\n",
    "import os\n",
    "#import os.path\n",
    "import tqdm\n",
    "import time"
   ]
  },
  {
   "cell_type": "code",
   "execution_count": 11,
   "metadata": {
    "collapsed": true
   },
   "outputs": [],
   "source": [
    "# DIrectory of an original images\n",
    "input_directory = r'D:/STEREO CAMERA PROJECT/'\n",
    "\n",
    "# Directory of destination\n",
    "output_directory = r'D:/STEREO CAMERA PROJECT/resize_100/'\n",
    "\n",
    "# basewidth is the width of a resized images\n",
    "basewidth = 100"
   ]
  },
  {
   "cell_type": "code",
   "execution_count": 12,
   "metadata": {
    "collapsed": true
   },
   "outputs": [],
   "source": [
    "# Procedure of Dataset Preparation\n",
    "def DatasetPreparation(input_directory, output_directory, image_type):\n",
    "    for filename in tqdm.tqdm(os.listdir(input_directory+image_type)):\n",
    "        if filename.endswith(\".png\") or filename.endswith(\".jpg\"):\n",
    "            # Check if there exist the wanted file inside the destionation folder, \n",
    "            # if there exist then continue, else resize and save the new images.\n",
    "            if os.path.exists(output_directory+image_type+filename):\n",
    "                continue\n",
    "            else:\n",
    "                im = Image.open(input_directory+image_type+filename)\n",
    "                wpercent = (basewidth/float(im.size[0]))\n",
    "                hsize = int((float(im.size[1])*float(wpercent)))\n",
    "                im = im.resize((basewidth,hsize), Image.ANTIALIAS)\n",
    "                name = filename[:-4]\n",
    "                im.save(output_directory+image_type+filename)\n",
    "                time.sleep(0.01)\n",
    "                continue\n",
    "        else:\n",
    "            continue\n",
    "    \n",
    "    return None"
   ]
  },
  {
   "cell_type": "code",
   "execution_count": 13,
   "metadata": {},
   "outputs": [
    {
     "name": "stderr",
     "output_type": "stream",
     "text": [
      "100%|████████████████████████████████████████████████████████████████████████| 174475/174475 [2:42:55<00:00, 17.85it/s]\n"
     ]
    }
   ],
   "source": [
    "# Preparation of right images\n",
    "DatasetPreparation(input_directory, output_directory, 'train-right-image/')"
   ]
  },
  {
   "cell_type": "code",
   "execution_count": null,
   "metadata": {
    "collapsed": true
   },
   "outputs": [],
   "source": [
    "# Preparation of left images\n",
    "DatasetPreparation(input_directory, output_directory, 'train-left-image/')"
   ]
  },
  {
   "cell_type": "code",
   "execution_count": null,
   "metadata": {
    "collapsed": true
   },
   "outputs": [],
   "source": [
    "# Preparation of depth maps\n",
    "DatasetPreparation(input_directory, output_directory, 'train-depth-map/')"
   ]
  },
  {
   "cell_type": "code",
   "execution_count": null,
   "metadata": {
    "collapsed": true
   },
   "outputs": [],
   "source": [
    "# Preparation of disparity maps\n",
    "DatasetPreparation(input_directory, output_directory, 'train-disparity-map/')"
   ]
  }
 ],
 "metadata": {
  "kernelspec": {
   "display_name": "Python 3",
   "language": "python",
   "name": "python3"
  },
  "language_info": {
   "codemirror_mode": {
    "name": "ipython",
    "version": 3
   },
   "file_extension": ".py",
   "mimetype": "text/x-python",
   "name": "python",
   "nbconvert_exporter": "python",
   "pygments_lexer": "ipython3",
   "version": "3.6.2"
  }
 },
 "nbformat": 4,
 "nbformat_minor": 2
}
